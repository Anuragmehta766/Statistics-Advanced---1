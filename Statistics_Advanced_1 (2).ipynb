{
  "nbformat": 4,
  "nbformat_minor": 0,
  "metadata": {
    "colab": {
      "provenance": []
    },
    "kernelspec": {
      "name": "python3",
      "display_name": "Python 3"
    },
    "language_info": {
      "name": "python"
    }
  },
  "cells": [
    {
      "cell_type": "code",
      "execution_count": null,
      "metadata": {
        "id": "ZhGXiSEx3ul6"
      },
      "outputs": [],
      "source": []
    },
    {
      "cell_type": "markdown",
      "source": [
        "###Statistics Advanced - 1"
      ],
      "metadata": {
        "id": "_a6qLvV63zwP"
      }
    },
    {
      "cell_type": "markdown",
      "source": [
        "###1. What is a random variable in probability theory ?"
      ],
      "metadata": {
        "id": "WGS3ET0t4SX-"
      }
    },
    {
      "cell_type": "markdown",
      "source": [
        "- A random variable in probability theory is a function that assigns a numerical value to each outcome in a sample space of a random experiment. Essentially, it translates the outcomes of a random process into real numbers, allowing us to analyze and quantify uncertainty using mathematical tools.\n",
        "\n",
        "There are two main types of random variables:\n",
        "\n",
        "Discrete random variables: These take on a countable number of distinct values, such as the number of heads in coin flips or the number of cars passing a street in an hour.\n",
        "\n",
        "Continuous random variables: These can take any value within a continuous range, like the exact height of a person or the time it takes to run a race.\n",
        "\n",
        "Random variables are characterized by their probability distributions, which specify the likelihood of each possible value. They are fundamental for calculating probabilities, expected values, variances, and other statistical measures.\n",
        "\n"
      ],
      "metadata": {
        "id": "TWbybR3S4V0M"
      }
    },
    {
      "cell_type": "markdown",
      "source": [
        "###2.What are the types of random variables?"
      ],
      "metadata": {
        "id": "_DkMbowG4nQs"
      }
    },
    {
      "cell_type": "markdown",
      "source": [
        "- Random variables are primarily classified into two main types based on the nature of their possible values:\n",
        "\n",
        "1. Discrete Random Variables\n",
        "Definition: These take on a countable number of distinct values. The values can be listed out explicitly, such as integers or specific categories.\n",
        "Examples:\n",
        "Number of students in a classroom.\n",
        "Number of defective items in a batch.\n",
        "Dice roll outcomes (1, 2, 3, 4, 5, 6).\n",
        "Probability Distribution: Described by a probability mass function (PMF), which assigns probabilities to each possible value.\n",
        "2. Continuous Random Variables\n",
        "Definition: These can take on any value within a continuous range or interval. The set of possible values is uncountably infinite.\n",
        "Examples:\n",
        "Height of individuals.\n",
        "Temperature in a city.\n",
        "Time taken to complete a task.\n",
        "Probability Distribution: Described by a probability density function (PDF), which gives the likelihood of the variable falling within a particular range (area under the curve).\n",
        "Additional Classifications\n",
        "While the above are the main categories, sometimes random variables are further classified or understood based on their properties:\n",
        "\n",
        "Intrinsic (or absolute) random variables: Those that are defined on the outcome space of a probabilistic experiment.\n",
        "\n",
        "Transformations: Sometimes random variables are derived by applying functions to other variables (e.g., converting Celsius to Fahrenheit)."
      ],
      "metadata": {
        "id": "OUT3ZNoP4t5h"
      }
    },
    {
      "cell_type": "markdown",
      "source": [
        "###3.Explain the difference between discrete and continuous distributions."
      ],
      "metadata": {
        "id": "rAQPBHJc4-Fc"
      }
    },
    {
      "cell_type": "markdown",
      "source": [
        "- The main difference between discrete and continuous distributions lies in the nature of the possible values their random variables can take and how probabilities are assigned.\n",
        "\n",
        "Discrete Distributions-\n",
        "Possible Values: The random variable can only take on specific, countable values (like integers or categories).\n",
        "Probability Assignment: Probabilities are assigned to each individual value using a probability mass function (PMF).\n",
        "Key Feature: The sum of all probabilities over all possible values equals 1.\n",
        "\n",
        "Example:\n",
        "The number of heads in 10 coin flips (possible values: 0, 1, 2, ..., 10).\n",
        "Rolls of a die (possible values: 1 through 6).\n",
        "\n",
        "Continuous Distributions-\n",
        "\n",
        "Possible Values: The random variable can take any value within a continuous range or interval.\n",
        "\n",
        "Probability Assignment: Probabilities are described using a probability density function (PDF), and the probability that the variable falls within a specific interval is given by the area under the curve of the PDF over that interval.\n",
        "\n",
        "Key Feature: The probability that the variable equals any specific single value is zero; instead, probabilities are associated with intervals.\n",
        "Example:\n",
        "The exact height of a person (any value in a range, e.g., 150.0 cm to 200.0 cm).\n",
        "The time it takes to run a race.\n"
      ],
      "metadata": {
        "id": "RzCKV_Sx5GUL"
      }
    },
    {
      "cell_type": "markdown",
      "source": [
        "###4.What is a binomial distribution, and how is it used in probability?"
      ],
      "metadata": {
        "id": "m7SA54gT6Ddd"
      }
    },
    {
      "cell_type": "markdown",
      "source": [
        "- A binomial distribution is a discrete probability distribution that models the number of successes in a fixed number of independent, identical Bernoulli trials, each with the same probability of success.\n",
        "\n",
        "Key Characteristics\n",
        "\n",
        "Number of trials (n): The total number of independent experiments or trials.\n",
        "\n",
        "Probability of success (p): The probability that a single trial results in success.\n",
        "\n",
        "Random variable (X): The number of successes observed in the n trials.\n",
        "\n",
        "Distribution: Describes the probability that X takes a specific value (i.e., exactly k successes).\n",
        "\n",
        "How is Binomial Distribution Used in Probability?\n",
        "\n",
        "The Binomial Distribution is used in probability to predict the likelihood of a certain number of successes in a fixed number of independent trials, where each trial has only two outcomes — Success or Failure.\n",
        "\n",
        "\n",
        "\n",
        "\n",
        "How is Binomial Distribution Used in Probability?\n",
        "\n",
        "The binomial distribution is used in probability to calculate the likelihood of a fixed number of successes in a given number of independent trials, where each trial has only two outcomes: success or failure.\n",
        "\n",
        "\n",
        "\n",
        "How It’s Used:\n",
        "\t1.\tTo find exact probabilities\n",
        "Example: What is the probability of getting exactly 3 heads in 5 coin tosses?\n",
        "\n",
        "\t2.\tTo model real-life binary events\n",
        "Like pass/fail, win/loss, defective/non-defective, yes/no outcomes.\n",
        "\n",
        "\t3.\tIn business and quality control\n",
        "For checking whether the defect rate is acceptable in a batch of products.\n",
        "\n",
        "\t4.\tTo calculate cumulative probabilities\n",
        "Example: Probability of getting at most 2 defective items in 10.\n",
        "\n",
        "\t5.\tIn hypothesis testing\n",
        "The binomial distribution is used in binomial tests to check if outcomes match expected probabilities (e.g., checking if a coin is fair)."
      ],
      "metadata": {
        "id": "S6ZyxMna6NfR"
      }
    },
    {
      "cell_type": "markdown",
      "source": [
        "###5. What is the standard normal distribution, and why is it important?"
      ],
      "metadata": {
        "id": "JVmgFHjY8nBU"
      }
    },
    {
      "cell_type": "markdown",
      "source": [
        "- The standard normal distribution is a special case of the normal distribution, characterized by a mean of 0 and a standard deviation of 1. Its probability density function (PDF) is symmetric about the mean, and it describes how the values of a continuous random variable are distributed.\n",
        "\n",
        "Why is it important?\n",
        "\n",
        "Foundation for Many Statistical Methods:\n",
        "The standard normal distribution serves as a basis for many statistical techniques because it provides a common framework for understanding the behavior of data and test statistics.\n",
        "\n",
        "Simplifies Calculations:\n",
        "By converting any normal distribution to the standard normal distribution (using a Z-score), we can easily find probabilities and percentiles from standard Z-tables, simplifying calculations in probability and statistical inference.\n",
        "\n",
        "Uses in Probability:\n",
        "\n",
        "Exact Probabilities: For example, if a data point follows a normal distribution, you can find the probability of observing a value less than or greater than a certain point by using the standard normal distribution.\n",
        "\n",
        "Cumulative Probabilities: It helps to determine the probability that a random variable takes a value less than or equal to a certain value, which is essential in areas like hypothesis testing.\n",
        "\n",
        "Example:\n",
        "\n",
        "Coin Tosses: While the binomial distribution models discrete outcomes like the number of heads in coin tosses, when the number of trials is large, the binomial can be approximated using a normal distribution, making calculations easier.\n",
        "\n",
        "For example, the probability of getting at most 2 heads in 5 tosses can be approximated or calculated precisely using binomial formulas or normal approximation.\n",
        "In hypothesis testing:\n",
        "\n",
        "The Z-test uses the standard normal distribution to determine whether an observed effect significantly differs from what is expected under the null hypothesis, such as testing whether a coin is fair."
      ],
      "metadata": {
        "id": "ep6qCit98uYn"
      }
    },
    {
      "cell_type": "markdown",
      "source": [
        "###6.What is the Central Limit Theorem (CLT), and why is it critical in statistics?"
      ],
      "metadata": {
        "id": "13rtYSiA9Uqn"
      }
    },
    {
      "cell_type": "markdown",
      "source": [
        "- the Central Limit Theorem (CLT) is one of the most fundamental principles in statistics. It states that:\n",
        "\n",
        "When you take a sufficiently large number of independent and identically distributed (i.i.d.) random samples from any population with a finite mean and variance, the sampling distribution of the sample mean will approximate a normal distribution, regardless of the shape of the original population distribution.\n",
        "\n",
        "Key points about the CLT:\n",
        "\n",
        "Large sample sizes: Typically, a sample size of 30 or more is considered sufficient, but this can vary depending on the underlying distribution.\n",
        "\n",
        "Independence: The samples must be independent of each other.\n",
        "\n",
        "Finite mean and variance: The population from which samples are drawn must have a well-defined average and variance.\n",
        "\n",
        "Why is the CLT critical in statistics?\n",
        "\n",
        "Basis for Inferential Statistics:\n",
        "The CLT justifies using the normal distribution to make inferences about population parameters (like the mean) even when the original data is not normally distributed.\n",
        "\n",
        "Simplifies Analysis:\n",
        "Many statistical tests and confidence interval calculations rely on the assumption of normality. The CLT assures that these methods are valid for large enough samples, making the analysis more straightforward.\n",
        "\n",
        "Supports Approximation Methods:\n",
        "It allows statisticians to approximate complex distributions with a normal distribution, facilitating easy probability calculations and hypothesis testing.\n",
        "\n",
        "Empowers Real-World Applications:\n",
        "The CLT underpins procedures in quality control, survey analysis, finance, and many other fields where sampling is involved.\n",
        "\n",
        "Example:\n",
        "Suppose you're measuring the average height of a large population. Individual heights can follow any distribution — skewed, bimodal, etc. According to the CLT, as you take many samples and calculate their means, those means will tend to form an approximately normal distribution. This enables you to make predictions and decisions about population parameters based on sample data confidently."
      ],
      "metadata": {
        "id": "ZS8d31dY9a7U"
      }
    },
    {
      "cell_type": "markdown",
      "source": [
        "###7.What is the significance of confidence intervals in statistical analysis?"
      ],
      "metadata": {
        "id": "Wl2-bGAt9x_f"
      }
    },
    {
      "cell_type": "markdown",
      "source": [
        "- A confidence interval (CI) is a range of values that is likely to contain the true population parameter (such as mean or proportion), based on the results from a sample, with a specified level of confidence (commonly 95%).\n",
        "\n",
        "\n",
        "\n",
        "Why Confidence Intervals are Important in Statistical Analysis:\n",
        "\n",
        "\t1.\tEstimate Population Parameters\n",
        "Statistical analysis often uses samples to make inferences about a larger population. Confidence intervals provide a range in which the true value of the population parameter is likely to fall.\n",
        "\n",
        "\t2.\tMeasure of Precision and Uncertainty\n",
        "Confidence intervals help assess how precise or uncertain a sample estimate is. A narrow interval means more precision; a wider interval indicates more uncertainty.\n",
        "\n",
        "\t3.\tBetter than Single Value Estimates\n",
        "Instead of just providing a single point (e.g., average = 50), a confidence interval gives a range (e.g., 48 to 52), offering a more realistic and informative picture.\n",
        "\n",
        "\t4.\tSupports Hypothesis Testing\n",
        "If a confidence interval does not include the value stated in the null hypothesis, it suggests the result is statistically significant and the null hypothesis may be rejected.\n",
        "\n",
        "\t5.\tUsed in Decision-Making\n",
        "Confidence intervals are widely used in medicine, engineering, economics, and business to make informed and reliable decisions based on data.\n",
        "\n",
        "\t6.\tMore Informative than p-values Alone\n",
        "While p-values indicate whether an effect exists, confidence intervals also show the possible size of the effect and the uncertainty around it.\n",
        "\n",
        "\n",
        "\n",
        "Example:\n",
        "\n",
        "Suppose a survey finds the average monthly income of a group is ₹30,000, and the 95% confidence interval is ₹28,000 to ₹32,000.\n",
        "\n",
        "Interpretation:\n",
        "We can be 95% confident that the true average monthly income of the entire population lies between ₹28,000 and ₹32,000."
      ],
      "metadata": {
        "id": "7pB41OUk97qw"
      }
    },
    {
      "cell_type": "markdown",
      "source": [
        "###8.What is the concept of expected value in a probability distribution?"
      ],
      "metadata": {
        "id": "F3f_GzPY-_lZ"
      }
    },
    {
      "cell_type": "markdown",
      "source": [
        "- The expected value (also called mean or expectation) of a probability distribution is the long-term average or central value you would expect after repeating an experiment many times.\n",
        "\n",
        "It tells you the average outcome of a random variable over time.\n",
        "\n",
        "The Expected Value tells you what outcome you can expect on average if you repeat the process a large number of times.\n",
        "\n",
        "It’s like the “center” of the distribution.\n",
        "\n",
        "\n",
        "\n",
        " Real-Life Example:\n",
        "\n",
        "Suppose you toss a fair coin:\n",
        "\t•\tYou win ₹10 for Heads\n",
        "\t•\tYou lose ₹5 for Tails\n",
        "\n",
        "Now, the expected value is:\n",
        "\n",
        "E(X) = (10 \\times 0.5) + (-5 \\times 0.5) = 5 - 2.5 = ₹2.5\n",
        "\n",
        "So, on average, you earn ₹2.5 per toss in the long run — that’s the expected value.\n",
        "\n",
        "Why It’s Important:\n",
        "\n",
        "\t1.\tPredicts average outcome in the long run.\n",
        "\n",
        "\t2.\tHelps in decision making under uncertainty.\n",
        "\n",
        "\t3.\tUsed in games, insurance, finance, and economics to evaluate fairness or profitability.\n",
        "\n",
        "\t4.\tFoundation for many statistical and machine learning models."
      ],
      "metadata": {
        "id": "i6uMgpIQ_F0B"
      }
    },
    {
      "cell_type": "markdown",
      "source": [
        "###9. Write a Python program to generate 1000 random numbers from a normal\n",
        "distribution with mean = 50 and standard deviation = 5. Compute its mean and standard\n",
        "deviation using NumPy, and draw a histogram to visualize the distribution"
      ],
      "metadata": {
        "id": "Q_1ZKmUhCp4J"
      }
    },
    {
      "cell_type": "code",
      "source": [
        "import numpy as np\n",
        "import matplotlib.pyplot as plt\n",
        "\n",
        "# Generate 1000 random numbers from a normal distribution\n",
        "mean = 50\n",
        "std_dev = 5\n",
        "sample_size = 1000\n",
        "\n",
        "data = np.random.normal(loc=mean, scale=std_dev, size=sample_size)\n",
        "\n",
        "# Compute the mean and standard deviation of the sample\n",
        "sample_mean = np.mean(data)\n",
        "sample_std_dev = np.std(data)\n",
        "\n",
        "print(f\"Sample Mean: {sample_mean:.2f}\")\n",
        "print(f\"Sample Standard Deviation: {sample_std_dev:.2f}\")\n",
        "\n",
        "# Plot the histogram\n",
        "plt.hist(data, bins=30, alpha=0.7, color='blue', edgecolor='black')\n",
        "plt.title('Histogram of Generated Normal Distribution')\n",
        "plt.xlabel('Value')\n",
        "plt.ylabel('Frequency')\n",
        "plt.grid(True)\n",
        "plt.show()"
      ],
      "metadata": {
        "colab": {
          "base_uri": "https://localhost:8080/",
          "height": 507
        },
        "id": "ZPKpVd0CC4w4",
        "outputId": "3bca235a-f655-4081-ee60-8d27a8e0473d"
      },
      "execution_count": 1,
      "outputs": [
        {
          "output_type": "stream",
          "name": "stdout",
          "text": [
            "Sample Mean: 49.88\n",
            "Sample Standard Deviation: 5.06\n"
          ]
        },
        {
          "output_type": "display_data",
          "data": {
            "text/plain": [
              "<Figure size 640x480 with 1 Axes>"
            ],
            "image/png": "[encoded data removed]"
          },
          "metadata": {}
        }
      ]
    },
    {
      "cell_type": "markdown",
      "source": [
        "###10.You are working as a data analyst for a retail company. The company has\n",
        "collected daily sales data for 2 years and wants you to identify the overall sales trend.\n",
        "daily_sales = [220, 245, 210, 265, 230, 250, 260, 275, 240, 255,\n",
        "235, 260, 245, 250, 225, 270, 265, 255, 250, 260]\n",
        "\n",
        "● Explain how you would apply the Central Limit Theorem to estimate the average sales\n",
        "with a 95% confidence interval.\n",
        "\n",
        "● Write the Python code to compute the mean sales and its confidence interval.\n"
      ],
      "metadata": {
        "id": "TqQlIIdCD5qj"
      }
    },
    {
      "cell_type": "markdown",
      "source": [
        "- The Central Limit Theorem (CLT) states that the sampling distribution of the sample mean will be approximately normal if the sample size is large enough, regardless of the original population distribution.\n",
        "\n",
        "To estimate the average daily sales with a 95% confidence interval, we:\n",
        "\n",
        "\t•\tCalculate the sample mean and standard deviation of daily_sales.\n",
        "\t•\tUse the Z-score for 95% confidence (which is 1.96).\n",
        "\t•\tCompute the Standard Error (SE) = standard deviation / √n\n",
        "\t•\tCompute the Confidence Interval as:\n"
      ],
      "metadata": {
        "id": "KnzpZ5KrEf7k"
      }
    },
    {
      "cell_type": "code",
      "source": [
        "from IPython.display import display, Math\n",
        "\n",
        "display(Math(r'\\text{CI} = \\bar{x} \\pm (Z \\times SE)'))"
      ],
      "metadata": {
        "colab": {
          "base_uri": "https://localhost:8080/",
          "height": 39
        },
        "id": "uR6oCZYZFd2L",
        "outputId": "a5fe0b93-ca45-4312-e021-f82108670faa"
      },
      "execution_count": 2,
      "outputs": [
        {
          "output_type": "display_data",
          "data": {
            "text/plain": [
              "<IPython.core.display.Math object>"
            ],
            "text/latex": "$\\displaystyle \\text{CI} = \\bar{x} \\pm (Z \\times SE)$"
          },
          "metadata": {}
        }
      ]
    },
    {
      "cell_type": "code",
      "source": [
        "import numpy as np\n",
        "from scipy import stats\n",
        "\n",
        "# Daily sales data\n",
        "daily_sales = [220, 245, 210, 265, 230, 250, 260, 275, 240, 255,\n",
        "               235, 260, 245, 250, 225, 270, 265, 255, 250, 260]\n",
        "\n",
        "# Convert to NumPy array\n",
        "data = np.array(daily_sales)\n",
        "\n",
        "# Sample statistics\n",
        "mean_sales = np.mean(data)\n",
        "std_sales = np.std(data, ddof=1)  # Use ddof=1 for sample std deviation\n",
        "n = len(data)\n",
        "\n",
        "# Standard Error\n",
        "SE = std_sales / np.sqrt(n)\n",
        "\n",
        "# Z-score for 95% confidence\n",
        "z_score = 1.96\n",
        "\n",
        "# Confidence Interval\n",
        "lower_bound = mean_sales - z_score * SE\n",
        "upper_bound = mean_sales + z_score * SE\n",
        "\n",
        "# Output\n",
        "print(f\"Sample Mean Sales: {mean_sales:.2f}\")\n",
        "print(f\"95% Confidence Interval: ({lower_bound:.2f}, {upper_bound:.2f})\")"
      ],
      "metadata": {
        "colab": {
          "base_uri": "https://localhost:8080/"
        },
        "id": "_25b402ZFqK9",
        "outputId": "463c3c01-c799-42c4-c89d-64faf1724457"
      },
      "execution_count": 3,
      "outputs": [
        {
          "output_type": "stream",
          "name": "stdout",
          "text": [
            "Sample Mean Sales: 248.25\n",
            "95% Confidence Interval: (240.68, 255.82)\n"
          ]
        }
      ]
    }
  ]
}